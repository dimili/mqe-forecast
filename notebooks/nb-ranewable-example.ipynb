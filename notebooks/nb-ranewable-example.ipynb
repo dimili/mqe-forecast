{
 "cells": [
  {
   "cell_type": "code",
   "execution_count": 1,
   "metadata": {},
   "outputs": [
    {
     "name": "stderr",
     "output_type": "stream",
     "text": [
      "/anaconda3/envs/power-forecast/lib/python3.8/site-packages/pvlib/forecast.py:18: UserWarning: The forecast module algorithms and features are highly experimental. The API may change, the functionality may be consolidated into an io module, or the module may be separated into its own package.\n",
      "  warnings.warn(\n"
     ]
    }
   ],
   "source": [
    "%reload_ext autoreload\n",
    "%autoreload 2\n",
    "\n",
    "import sys\n",
    "import pandas as pd\n",
    "\n",
    "sys.path.append('../ranewable/')\n",
    "from ranewable import Ra"
   ]
  },
  {
   "cell_type": "markdown",
   "metadata": {},
   "source": [
    "## Load GEFCom2014 data"
   ]
  },
  {
   "cell_type": "code",
   "execution_count": 2,
   "metadata": {},
   "outputs": [],
   "source": [
    "# Solar farm data\n",
    "farm_coords = [[145, -37,5], [145, -37,5], [145, -37,5]]\n",
    "farm_altitude = [595, 602, 951]\n",
    "panel_orientation = [38, 327, 31]\n",
    "panel_tilt = [36, 35, 21]"
   ]
  },
  {
   "cell_type": "code",
   "execution_count": 5,
   "metadata": {},
   "outputs": [],
   "source": [
    "df = pd.read_csv('../data/gefcom2014/raw/gefcom2014-solar-raw.csv', index_col=0, header=[0,1], parse_dates=True)\n",
    "features_accum = ['VAR169', 'VAR175', 'VAR178', 'VAR228']\n",
    "df_accum = df.loc[:,(slice(None),features_accum)]\n",
    "df_accum = df_accum.diff()\n",
    "df_accum[df_accum.index.hour==0] = df.loc[df_accum.index.hour==0,(slice(None),features_accum)]\n",
    "df_accum.loc[:,(slice(None),features_accum[:3])] = df_accum.loc[:,(slice(None),features_accum[:3])]/(3600) # Convert from J to kWh/h\n",
    "df.loc[:,(slice(None),features_accum)] = df_accum"
   ]
  },
  {
   "cell_type": "code",
   "execution_count": 6,
   "metadata": {},
   "outputs": [
    {
     "data": {
      "text/html": [
       "<div>\n",
       "<style scoped>\n",
       "    .dataframe tbody tr th:only-of-type {\n",
       "        vertical-align: middle;\n",
       "    }\n",
       "\n",
       "    .dataframe tbody tr th {\n",
       "        vertical-align: top;\n",
       "    }\n",
       "\n",
       "    .dataframe thead tr th {\n",
       "        text-align: left;\n",
       "    }\n",
       "\n",
       "    .dataframe thead tr:last-of-type th {\n",
       "        text-align: right;\n",
       "    }\n",
       "</style>\n",
       "<table border=\"1\" class=\"dataframe\">\n",
       "  <thead>\n",
       "    <tr>\n",
       "      <th>ZONEID</th>\n",
       "      <th>1</th>\n",
       "      <th>2</th>\n",
       "      <th>3</th>\n",
       "      <th>1</th>\n",
       "      <th>2</th>\n",
       "      <th>3</th>\n",
       "      <th>1</th>\n",
       "      <th>2</th>\n",
       "      <th>3</th>\n",
       "      <th>1</th>\n",
       "      <th>...</th>\n",
       "      <th>3</th>\n",
       "      <th>1</th>\n",
       "      <th>2</th>\n",
       "      <th>3</th>\n",
       "      <th>1</th>\n",
       "      <th>2</th>\n",
       "      <th>3</th>\n",
       "      <th>1</th>\n",
       "      <th>2</th>\n",
       "      <th>3</th>\n",
       "    </tr>\n",
       "    <tr>\n",
       "      <th></th>\n",
       "      <th>POWER</th>\n",
       "      <th>POWER</th>\n",
       "      <th>POWER</th>\n",
       "      <th>VAR134</th>\n",
       "      <th>VAR134</th>\n",
       "      <th>VAR134</th>\n",
       "      <th>VAR157</th>\n",
       "      <th>VAR157</th>\n",
       "      <th>VAR157</th>\n",
       "      <th>VAR164</th>\n",
       "      <th>...</th>\n",
       "      <th>VAR178</th>\n",
       "      <th>VAR228</th>\n",
       "      <th>VAR228</th>\n",
       "      <th>VAR228</th>\n",
       "      <th>VAR78</th>\n",
       "      <th>VAR78</th>\n",
       "      <th>VAR78</th>\n",
       "      <th>VAR79</th>\n",
       "      <th>VAR79</th>\n",
       "      <th>VAR79</th>\n",
       "    </tr>\n",
       "    <tr>\n",
       "      <th>TIMESTAMP</th>\n",
       "      <th></th>\n",
       "      <th></th>\n",
       "      <th></th>\n",
       "      <th></th>\n",
       "      <th></th>\n",
       "      <th></th>\n",
       "      <th></th>\n",
       "      <th></th>\n",
       "      <th></th>\n",
       "      <th></th>\n",
       "      <th></th>\n",
       "      <th></th>\n",
       "      <th></th>\n",
       "      <th></th>\n",
       "      <th></th>\n",
       "      <th></th>\n",
       "      <th></th>\n",
       "      <th></th>\n",
       "      <th></th>\n",
       "      <th></th>\n",
       "      <th></th>\n",
       "    </tr>\n",
       "  </thead>\n",
       "  <tbody>\n",
       "    <tr>\n",
       "      <th>2012-04-01 01:00:00</th>\n",
       "      <td>0.754103</td>\n",
       "      <td>0.647328</td>\n",
       "      <td>0.799000</td>\n",
       "      <td>94843.6250</td>\n",
       "      <td>94290.6250</td>\n",
       "      <td>92667.6250</td>\n",
       "      <td>60.221909</td>\n",
       "      <td>57.374252</td>\n",
       "      <td>57.003159</td>\n",
       "      <td>0.244601</td>\n",
       "      <td>...</td>\n",
       "      <td>NaN</td>\n",
       "      <td>NaN</td>\n",
       "      <td>NaN</td>\n",
       "      <td>NaN</td>\n",
       "      <td>0.001967</td>\n",
       "      <td>0.001479</td>\n",
       "      <td>0.003531</td>\n",
       "      <td>0.003609</td>\n",
       "      <td>0.005444</td>\n",
       "      <td>0.024673</td>\n",
       "    </tr>\n",
       "    <tr>\n",
       "      <th>2012-04-01 02:00:00</th>\n",
       "      <td>0.555000</td>\n",
       "      <td>0.621822</td>\n",
       "      <td>0.817500</td>\n",
       "      <td>94757.9375</td>\n",
       "      <td>94217.6875</td>\n",
       "      <td>92622.6875</td>\n",
       "      <td>54.678604</td>\n",
       "      <td>57.129776</td>\n",
       "      <td>64.960831</td>\n",
       "      <td>0.457138</td>\n",
       "      <td>...</td>\n",
       "      <td>855.296944</td>\n",
       "      <td>0.000000</td>\n",
       "      <td>0.000000</td>\n",
       "      <td>0.000774</td>\n",
       "      <td>0.005524</td>\n",
       "      <td>0.018304</td>\n",
       "      <td>0.027482</td>\n",
       "      <td>0.033575</td>\n",
       "      <td>0.101553</td>\n",
       "      <td>0.140474</td>\n",
       "    </tr>\n",
       "    <tr>\n",
       "      <th>2012-04-01 03:00:00</th>\n",
       "      <td>0.438397</td>\n",
       "      <td>0.472692</td>\n",
       "      <td>0.571500</td>\n",
       "      <td>94732.8125</td>\n",
       "      <td>94201.0625</td>\n",
       "      <td>92598.8125</td>\n",
       "      <td>61.294891</td>\n",
       "      <td>63.076141</td>\n",
       "      <td>66.795868</td>\n",
       "      <td>0.771429</td>\n",
       "      <td>...</td>\n",
       "      <td>789.361667</td>\n",
       "      <td>0.001341</td>\n",
       "      <td>0.001256</td>\n",
       "      <td>0.000898</td>\n",
       "      <td>0.030113</td>\n",
       "      <td>0.035255</td>\n",
       "      <td>0.032356</td>\n",
       "      <td>0.132009</td>\n",
       "      <td>0.112935</td>\n",
       "      <td>0.136617</td>\n",
       "    </tr>\n",
       "    <tr>\n",
       "      <th>2012-04-01 04:00:00</th>\n",
       "      <td>0.145449</td>\n",
       "      <td>0.098866</td>\n",
       "      <td>0.063775</td>\n",
       "      <td>94704.0625</td>\n",
       "      <td>94156.0625</td>\n",
       "      <td>92542.0625</td>\n",
       "      <td>67.775284</td>\n",
       "      <td>62.975479</td>\n",
       "      <td>65.177628</td>\n",
       "      <td>0.965866</td>\n",
       "      <td>...</td>\n",
       "      <td>654.504167</td>\n",
       "      <td>0.001161</td>\n",
       "      <td>0.000469</td>\n",
       "      <td>0.000413</td>\n",
       "      <td>0.057167</td>\n",
       "      <td>0.064514</td>\n",
       "      <td>0.031952</td>\n",
       "      <td>0.110645</td>\n",
       "      <td>0.107761</td>\n",
       "      <td>0.097370</td>\n",
       "    </tr>\n",
       "    <tr>\n",
       "      <th>2012-04-01 05:00:00</th>\n",
       "      <td>0.111987</td>\n",
       "      <td>0.104393</td>\n",
       "      <td>0.103700</td>\n",
       "      <td>94675.0000</td>\n",
       "      <td>94124.2500</td>\n",
       "      <td>92508.0000</td>\n",
       "      <td>70.172989</td>\n",
       "      <td>65.053848</td>\n",
       "      <td>65.744278</td>\n",
       "      <td>0.944669</td>\n",
       "      <td>...</td>\n",
       "      <td>528.086389</td>\n",
       "      <td>0.000830</td>\n",
       "      <td>0.000367</td>\n",
       "      <td>0.000450</td>\n",
       "      <td>0.051027</td>\n",
       "      <td>0.059495</td>\n",
       "      <td>0.048494</td>\n",
       "      <td>0.189560</td>\n",
       "      <td>0.157593</td>\n",
       "      <td>0.163773</td>\n",
       "    </tr>\n",
       "  </tbody>\n",
       "</table>\n",
       "<p>5 rows × 39 columns</p>\n",
       "</div>"
      ],
      "text/plain": [
       "ZONEID                      1         2         3           1           2  \\\n",
       "                        POWER     POWER     POWER      VAR134      VAR134   \n",
       "TIMESTAMP                                                                   \n",
       "2012-04-01 01:00:00  0.754103  0.647328  0.799000  94843.6250  94290.6250   \n",
       "2012-04-01 02:00:00  0.555000  0.621822  0.817500  94757.9375  94217.6875   \n",
       "2012-04-01 03:00:00  0.438397  0.472692  0.571500  94732.8125  94201.0625   \n",
       "2012-04-01 04:00:00  0.145449  0.098866  0.063775  94704.0625  94156.0625   \n",
       "2012-04-01 05:00:00  0.111987  0.104393  0.103700  94675.0000  94124.2500   \n",
       "\n",
       "ZONEID                        3          1          2          3         1  \\\n",
       "                         VAR134     VAR157     VAR157     VAR157    VAR164   \n",
       "TIMESTAMP                                                                    \n",
       "2012-04-01 01:00:00  92667.6250  60.221909  57.374252  57.003159  0.244601   \n",
       "2012-04-01 02:00:00  92622.6875  54.678604  57.129776  64.960831  0.457138   \n",
       "2012-04-01 03:00:00  92598.8125  61.294891  63.076141  66.795868  0.771429   \n",
       "2012-04-01 04:00:00  92542.0625  67.775284  62.975479  65.177628  0.965866   \n",
       "2012-04-01 05:00:00  92508.0000  70.172989  65.053848  65.744278  0.944669   \n",
       "\n",
       "ZONEID               ...           3         1         2         3         1  \\\n",
       "                     ...      VAR178    VAR228    VAR228    VAR228     VAR78   \n",
       "TIMESTAMP            ...                                                       \n",
       "2012-04-01 01:00:00  ...         NaN       NaN       NaN       NaN  0.001967   \n",
       "2012-04-01 02:00:00  ...  855.296944  0.000000  0.000000  0.000774  0.005524   \n",
       "2012-04-01 03:00:00  ...  789.361667  0.001341  0.001256  0.000898  0.030113   \n",
       "2012-04-01 04:00:00  ...  654.504167  0.001161  0.000469  0.000413  0.057167   \n",
       "2012-04-01 05:00:00  ...  528.086389  0.000830  0.000367  0.000450  0.051027   \n",
       "\n",
       "ZONEID                      2         3         1         2         3  \n",
       "                        VAR78     VAR78     VAR79     VAR79     VAR79  \n",
       "TIMESTAMP                                                              \n",
       "2012-04-01 01:00:00  0.001479  0.003531  0.003609  0.005444  0.024673  \n",
       "2012-04-01 02:00:00  0.018304  0.027482  0.033575  0.101553  0.140474  \n",
       "2012-04-01 03:00:00  0.035255  0.032356  0.132009  0.112935  0.136617  \n",
       "2012-04-01 04:00:00  0.064514  0.031952  0.110645  0.107761  0.097370  \n",
       "2012-04-01 05:00:00  0.059495  0.048494  0.189560  0.157593  0.163773  \n",
       "\n",
       "[5 rows x 39 columns]"
      ]
     },
     "execution_count": 6,
     "metadata": {},
     "output_type": "execute_result"
    }
   ],
   "source": [
    "df.head()"
   ]
  },
  {
   "cell_type": "markdown",
   "metadata": {},
   "source": [
    "## Create ranewable instance"
   ]
  },
  {
   "cell_type": "code",
   "execution_count": 7,
   "metadata": {},
   "outputs": [],
   "source": [
    "ra = Ra(longitude=farm_coords[0][0],\n",
    "        latitude=farm_coords[0][1],\n",
    "        altitude=farm_altitude[0],\n",
    "        capacity=1,\n",
    "        orientation=panel_orientation[0],\n",
    "        tilt=panel_tilt[0])"
   ]
  },
  {
   "cell_type": "code",
   "execution_count": 9,
   "metadata": {},
   "outputs": [],
   "source": [
    "weather = ra.weather_from_ghi(df['1']['VAR169'])"
   ]
  },
  {
   "cell_type": "code",
   "execution_count": 12,
   "metadata": {},
   "outputs": [
    {
     "name": "stderr",
     "output_type": "stream",
     "text": [
      "/anaconda3/envs/power-forecast/lib/python3.8/site-packages/pvlib/modelchain.py:956: pvlibDeprecationWarning: times keyword argument is deprecated and will be removed in 0.8. The index of the weather DataFrame is used for times.\n",
      "  warnings.warn('times keyword argument is deprecated and will be '\n"
     ]
    }
   ],
   "source": [
    "pred = ra.calculate_power(weather)"
   ]
  },
  {
   "cell_type": "code",
   "execution_count": 13,
   "metadata": {},
   "outputs": [],
   "source": [
    "df.loc[:, ('1', 'PRED')] = pred"
   ]
  },
  {
   "cell_type": "code",
   "execution_count": 14,
   "metadata": {},
   "outputs": [],
   "source": [
    "abs_error = (df['1']['POWER']-df['1']['PRED']).abs().mean()"
   ]
  },
  {
   "cell_type": "code",
   "execution_count": 15,
   "metadata": {},
   "outputs": [
    {
     "name": "stdout",
     "output_type": "stream",
     "text": [
      "0.07749390373561786\n",
      "0.08764306544934268\n"
     ]
    }
   ],
   "source": [
    "# compare result with other notebook using pvlib directly\n",
    "print(abs_error)\n",
    "print(0.08764306544934268)"
   ]
  },
  {
   "cell_type": "code",
   "execution_count": null,
   "metadata": {},
   "outputs": [],
   "source": []
  }
 ],
 "metadata": {
  "kernelspec": {
   "display_name": "Python [conda env:power-forecast]",
   "language": "python",
   "name": "conda-env-power-forecast-py"
  },
  "language_info": {
   "codemirror_mode": {
    "name": "ipython",
    "version": 3
   },
   "file_extension": ".py",
   "mimetype": "text/x-python",
   "name": "python",
   "nbconvert_exporter": "python",
   "pygments_lexer": "ipython3",
   "version": "3.8.5"
  }
 },
 "nbformat": 4,
 "nbformat_minor": 2
}
